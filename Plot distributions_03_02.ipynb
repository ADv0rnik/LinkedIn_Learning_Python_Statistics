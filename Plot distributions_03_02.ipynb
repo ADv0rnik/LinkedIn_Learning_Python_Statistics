{
 "cells": [
  {
   "cell_type": "code",
   "execution_count": 1,
   "metadata": {},
   "outputs": [],
   "source": [
    "import pandas as pd\n",
    "import scipy.stats\n",
    "import numpy as np"
   ]
  },
  {
   "cell_type": "code",
   "execution_count": 2,
   "metadata": {},
   "outputs": [],
   "source": [
    "import matplotlib\n",
    "import matplotlib.pyplot as plt\n",
    "\n",
    "%matplotlib inline"
   ]
  },
  {
   "cell_type": "code",
   "execution_count": 3,
   "metadata": {},
   "outputs": [],
   "source": [
    "from IPython import display\n",
    "from ipywidgets import interact, widgets"
   ]
  },
  {
   "cell_type": "code",
   "execution_count": 4,
   "metadata": {},
   "outputs": [],
   "source": [
    "import re\n",
    "import mailbox\n",
    "import csv"
   ]
  },
  {
   "cell_type": "code",
   "execution_count": 5,
   "metadata": {},
   "outputs": [],
   "source": [
    "china1965 = pd.read_csv('income-1965-china.csv')\n",
    "usa1965 = pd.read_csv('income-1965-usa.csv')\n",
    "china2015 = pd.read_csv('income-2015-china.csv')\n",
    "usa2015 = pd.read_csv('income-2015-usa.csv')"
   ]
  },
  {
   "cell_type": "code",
   "execution_count": 7,
   "metadata": {},
   "outputs": [
    {
     "data": {
      "text/plain": [
       "(       income  log10_income\n",
       " 0    1.026259      0.011257\n",
       " 1    0.912053     -0.039980\n",
       " 2    0.110699     -0.955857\n",
       " 3    0.469659     -0.328217\n",
       " 4    0.374626     -0.426402\n",
       " ..        ...           ...\n",
       " 995  0.755723     -0.121638\n",
       " 996  0.608742     -0.215567\n",
       " 997  0.422609     -0.374061\n",
       " 998  0.680230     -0.167344\n",
       " 999  0.464976     -0.332569\n",
       " \n",
       " [1000 rows x 2 columns],\n",
       "         income  log10_income\n",
       " 0    21.363833      1.329679\n",
       " 1    30.604093      1.485780\n",
       " 2    50.373886      1.702205\n",
       " 3    59.968851      1.777926\n",
       " 4    21.271346      1.327795\n",
       " ..         ...           ...\n",
       " 995  12.581536      1.099734\n",
       " 996  27.645154      1.441619\n",
       " 997  15.964374      1.203152\n",
       " 998  31.520078      1.498587\n",
       " 999  58.158074      1.764610\n",
       " \n",
       " [1000 rows x 2 columns])"
      ]
     },
     "execution_count": 7,
     "metadata": {},
     "output_type": "execute_result"
    }
   ],
   "source": [
    "china1965, usa1965"
   ]
  },
  {
   "cell_type": "code",
   "execution_count": 8,
   "metadata": {},
   "outputs": [
    {
     "data": {
      "text/plain": [
       "<AxesSubplot:>"
      ]
     },
     "execution_count": 8,
     "metadata": {},
     "output_type": "execute_result"
    },
    {
     "data": {
      "image/png": "[encoded data removed]",
      "text/plain": [
       "<Figure size 432x288 with 1 Axes>"
      ]
     },
     "metadata": {
      "needs_background": "light"
     },
     "output_type": "display_data"
    }
   ],
   "source": [
    "pd.DataFrame({'china':china1965.income, 'usa':usa1965.income}).boxplot()"
   ]
  },
  {
   "cell_type": "code",
   "execution_count": 11,
   "metadata": {},
   "outputs": [
    {
     "data": {
      "text/plain": [
       "<matplotlib.lines.Line2D at 0x25fa5792130>"
      ]
     },
     "execution_count": 11,
     "metadata": {},
     "output_type": "execute_result"
    },
    {
     "data": {
      "image/png": "[encoded data removed]",
      "text/plain": [
       "<Figure size 432x288 with 1 Axes>"
      ]
     },
     "metadata": {
      "needs_background": "light"
     },
     "output_type": "display_data"
    }
   ],
   "source": [
    "china1965.income.plot(kind ='hist', histtype = 'step', bins =30)\n",
    "plt.axvline(china1965.income.mean(), c ='C1')\n",
    "plt.axvline(china1965.income.median(), c ='C1', linestyle = '--')\n",
    "plt.axvline(china1965.income.quantile(0.25), c ='C1', linestyle = ':')\n",
    "plt.axvline(china1965.income.quantile(0.75), c ='C1', linestyle = ':')"
   ]
  },
  {
   "cell_type": "code",
   "execution_count": 16,
   "metadata": {},
   "outputs": [
    {
     "data": {
      "text/plain": [
       "(0.0, 3.0, 0.0, 1.2342999882944063)"
      ]
     },
     "execution_count": 16,
     "metadata": {},
     "output_type": "execute_result"
    },
    {
     "data": {
      "image/png": "[encoded data removed]",
      "text/plain": [
       "<Figure size 432x288 with 1 Axes>"
      ]
     },
     "metadata": {
      "needs_background": "light"
     },
     "output_type": "display_data"
    }
   ],
   "source": [
    "china1965.income.plot(kind ='hist', histtype = 'step', bins =30, density = True)\n",
    "china1965.income.plot.density(0.5)\n",
    "\n",
    "plt.axis(xmin = 0, xmax = 3)"
   ]
  },
  {
   "cell_type": "code",
   "execution_count": null,
   "metadata": {},
   "outputs": [],
   "source": []
  }
 ],
 "metadata": {
  "kernelspec": {
   "display_name": "Python 3",
   "language": "python",
   "name": "python3"
  },
  "language_info": {
   "codemirror_mode": {
    "name": "ipython",
    "version": 3
   },
   "file_extension": ".py",
   "mimetype": "text/x-python",
   "name": "python",
   "nbconvert_exporter": "python",
   "pygments_lexer": "ipython3",
   "version": "3.8.5"
  }
 },
 "nbformat": 4,
 "nbformat_minor": 4
}
