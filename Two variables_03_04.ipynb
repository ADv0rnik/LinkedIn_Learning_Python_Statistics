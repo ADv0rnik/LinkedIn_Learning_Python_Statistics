{
 "cells": [
  {
   "cell_type": "code",
   "execution_count": 2,
   "id": "three-species",
   "metadata": {},
   "outputs": [],
   "source": [
    "import pandas as pd\n",
    "import scipy.stats\n",
    "import numpy as np\n",
    "\n",
    "import matplotlib\n",
    "import matplotlib.pyplot as plt\n",
    "\n",
    "%matplotlib inline\n",
    "\n",
    "import re\n",
    "import mailbox\n",
    "import csv"
   ]
  },
  {
   "cell_type": "code",
   "execution_count": 3,
   "id": "romance-flower",
   "metadata": {},
   "outputs": [],
   "source": [
    "df = pd.read_csv('gapminder.csv')"
   ]
  },
  {
   "cell_type": "code",
   "execution_count": 4,
   "id": "virgin-heater",
   "metadata": {},
   "outputs": [
    {
     "data": {
      "text/html": [
       "<div>\n",
       "<style scoped>\n",
       "    .dataframe tbody tr th:only-of-type {\n",
       "        vertical-align: middle;\n",
       "    }\n",
       "\n",
       "    .dataframe tbody tr th {\n",
       "        vertical-align: top;\n",
       "    }\n",
       "\n",
       "    .dataframe thead th {\n",
       "        text-align: right;\n",
       "    }\n",
       "</style>\n",
       "<table border=\"1\" class=\"dataframe\">\n",
       "  <thead>\n",
       "    <tr style=\"text-align: right;\">\n",
       "      <th></th>\n",
       "      <th>country</th>\n",
       "      <th>year</th>\n",
       "      <th>region</th>\n",
       "      <th>population</th>\n",
       "      <th>life_expectancy</th>\n",
       "      <th>age5_surviving</th>\n",
       "      <th>babies_per_woman</th>\n",
       "      <th>gdp_per_capita</th>\n",
       "      <th>gdp_per_day</th>\n",
       "    </tr>\n",
       "  </thead>\n",
       "  <tbody>\n",
       "    <tr>\n",
       "      <th>0</th>\n",
       "      <td>Afghanistan</td>\n",
       "      <td>1800</td>\n",
       "      <td>Asia</td>\n",
       "      <td>3280000.0</td>\n",
       "      <td>28.21</td>\n",
       "      <td>53.142</td>\n",
       "      <td>7.00</td>\n",
       "      <td>603.0</td>\n",
       "      <td>1.650924</td>\n",
       "    </tr>\n",
       "    <tr>\n",
       "      <th>1</th>\n",
       "      <td>Afghanistan</td>\n",
       "      <td>1810</td>\n",
       "      <td>Asia</td>\n",
       "      <td>3280000.0</td>\n",
       "      <td>28.11</td>\n",
       "      <td>53.002</td>\n",
       "      <td>7.00</td>\n",
       "      <td>604.0</td>\n",
       "      <td>1.653662</td>\n",
       "    </tr>\n",
       "    <tr>\n",
       "      <th>2</th>\n",
       "      <td>Afghanistan</td>\n",
       "      <td>1820</td>\n",
       "      <td>Asia</td>\n",
       "      <td>3323519.0</td>\n",
       "      <td>28.01</td>\n",
       "      <td>52.862</td>\n",
       "      <td>7.00</td>\n",
       "      <td>604.0</td>\n",
       "      <td>1.653662</td>\n",
       "    </tr>\n",
       "    <tr>\n",
       "      <th>3</th>\n",
       "      <td>Afghanistan</td>\n",
       "      <td>1830</td>\n",
       "      <td>Asia</td>\n",
       "      <td>3448982.0</td>\n",
       "      <td>27.90</td>\n",
       "      <td>52.719</td>\n",
       "      <td>7.00</td>\n",
       "      <td>625.0</td>\n",
       "      <td>1.711157</td>\n",
       "    </tr>\n",
       "    <tr>\n",
       "      <th>4</th>\n",
       "      <td>Afghanistan</td>\n",
       "      <td>1840</td>\n",
       "      <td>Asia</td>\n",
       "      <td>3625022.0</td>\n",
       "      <td>27.80</td>\n",
       "      <td>52.576</td>\n",
       "      <td>7.00</td>\n",
       "      <td>647.0</td>\n",
       "      <td>1.771389</td>\n",
       "    </tr>\n",
       "    <tr>\n",
       "      <th>...</th>\n",
       "      <td>...</td>\n",
       "      <td>...</td>\n",
       "      <td>...</td>\n",
       "      <td>...</td>\n",
       "      <td>...</td>\n",
       "      <td>...</td>\n",
       "      <td>...</td>\n",
       "      <td>...</td>\n",
       "      <td>...</td>\n",
       "    </tr>\n",
       "    <tr>\n",
       "      <th>14735</th>\n",
       "      <td>Zimbabwe</td>\n",
       "      <td>2011</td>\n",
       "      <td>Africa</td>\n",
       "      <td>14255592.0</td>\n",
       "      <td>51.60</td>\n",
       "      <td>90.800</td>\n",
       "      <td>3.64</td>\n",
       "      <td>1626.0</td>\n",
       "      <td>4.451745</td>\n",
       "    </tr>\n",
       "    <tr>\n",
       "      <th>14736</th>\n",
       "      <td>Zimbabwe</td>\n",
       "      <td>2012</td>\n",
       "      <td>Africa</td>\n",
       "      <td>14565482.0</td>\n",
       "      <td>54.20</td>\n",
       "      <td>91.330</td>\n",
       "      <td>3.56</td>\n",
       "      <td>1750.0</td>\n",
       "      <td>4.791239</td>\n",
       "    </tr>\n",
       "    <tr>\n",
       "      <th>14737</th>\n",
       "      <td>Zimbabwe</td>\n",
       "      <td>2013</td>\n",
       "      <td>Africa</td>\n",
       "      <td>14898092.0</td>\n",
       "      <td>55.70</td>\n",
       "      <td>91.670</td>\n",
       "      <td>3.49</td>\n",
       "      <td>1773.0</td>\n",
       "      <td>4.854209</td>\n",
       "    </tr>\n",
       "    <tr>\n",
       "      <th>14738</th>\n",
       "      <td>Zimbabwe</td>\n",
       "      <td>2014</td>\n",
       "      <td>Africa</td>\n",
       "      <td>15245855.0</td>\n",
       "      <td>57.00</td>\n",
       "      <td>91.900</td>\n",
       "      <td>3.41</td>\n",
       "      <td>1773.0</td>\n",
       "      <td>4.854209</td>\n",
       "    </tr>\n",
       "    <tr>\n",
       "      <th>14739</th>\n",
       "      <td>Zimbabwe</td>\n",
       "      <td>2015</td>\n",
       "      <td>Africa</td>\n",
       "      <td>15602751.0</td>\n",
       "      <td>59.30</td>\n",
       "      <td>92.040</td>\n",
       "      <td>3.35</td>\n",
       "      <td>1801.0</td>\n",
       "      <td>4.930869</td>\n",
       "    </tr>\n",
       "  </tbody>\n",
       "</table>\n",
       "<p>14740 rows × 9 columns</p>\n",
       "</div>"
      ],
      "text/plain": [
       "           country  year  region  population  life_expectancy  age5_surviving  \\\n",
       "0      Afghanistan  1800    Asia   3280000.0            28.21          53.142   \n",
       "1      Afghanistan  1810    Asia   3280000.0            28.11          53.002   \n",
       "2      Afghanistan  1820    Asia   3323519.0            28.01          52.862   \n",
       "3      Afghanistan  1830    Asia   3448982.0            27.90          52.719   \n",
       "4      Afghanistan  1840    Asia   3625022.0            27.80          52.576   \n",
       "...            ...   ...     ...         ...              ...             ...   \n",
       "14735     Zimbabwe  2011  Africa  14255592.0            51.60          90.800   \n",
       "14736     Zimbabwe  2012  Africa  14565482.0            54.20          91.330   \n",
       "14737     Zimbabwe  2013  Africa  14898092.0            55.70          91.670   \n",
       "14738     Zimbabwe  2014  Africa  15245855.0            57.00          91.900   \n",
       "14739     Zimbabwe  2015  Africa  15602751.0            59.30          92.040   \n",
       "\n",
       "       babies_per_woman  gdp_per_capita  gdp_per_day  \n",
       "0                  7.00           603.0     1.650924  \n",
       "1                  7.00           604.0     1.653662  \n",
       "2                  7.00           604.0     1.653662  \n",
       "3                  7.00           625.0     1.711157  \n",
       "4                  7.00           647.0     1.771389  \n",
       "...                 ...             ...          ...  \n",
       "14735              3.64          1626.0     4.451745  \n",
       "14736              3.56          1750.0     4.791239  \n",
       "14737              3.49          1773.0     4.854209  \n",
       "14738              3.41          1773.0     4.854209  \n",
       "14739              3.35          1801.0     4.930869  \n",
       "\n",
       "[14740 rows x 9 columns]"
      ]
     },
     "execution_count": 4,
     "metadata": {},
     "output_type": "execute_result"
    }
   ],
   "source": [
    "df"
   ]
  },
  {
   "cell_type": "code",
   "execution_count": 5,
   "id": "vanilla-snake",
   "metadata": {},
   "outputs": [
    {
     "name": "stdout",
     "output_type": "stream",
     "text": [
      "<class 'pandas.core.frame.DataFrame'>\n",
      "RangeIndex: 14740 entries, 0 to 14739\n",
      "Data columns (total 9 columns):\n",
      " #   Column            Non-Null Count  Dtype  \n",
      "---  ------            --------------  -----  \n",
      " 0   country           14740 non-null  object \n",
      " 1   year              14740 non-null  int64  \n",
      " 2   region            14740 non-null  object \n",
      " 3   population        14740 non-null  float64\n",
      " 4   life_expectancy   14740 non-null  float64\n",
      " 5   age5_surviving    14740 non-null  float64\n",
      " 6   babies_per_woman  14740 non-null  float64\n",
      " 7   gdp_per_capita    14740 non-null  float64\n",
      " 8   gdp_per_day       14740 non-null  float64\n",
      "dtypes: float64(6), int64(1), object(2)\n",
      "memory usage: 1.0+ MB\n"
     ]
    }
   ],
   "source": [
    "df.info()"
   ]
  },
  {
   "cell_type": "code",
   "execution_count": 7,
   "id": "objective-breed",
   "metadata": {},
   "outputs": [],
   "source": [
    "belarus = df.query('country == \"Belarus\"')"
   ]
  },
  {
   "cell_type": "code",
   "execution_count": 8,
   "id": "changed-database",
   "metadata": {},
   "outputs": [
    {
     "data": {
      "text/html": [
       "<div>\n",
       "<style scoped>\n",
       "    .dataframe tbody tr th:only-of-type {\n",
       "        vertical-align: middle;\n",
       "    }\n",
       "\n",
       "    .dataframe tbody tr th {\n",
       "        vertical-align: top;\n",
       "    }\n",
       "\n",
       "    .dataframe thead th {\n",
       "        text-align: right;\n",
       "    }\n",
       "</style>\n",
       "<table border=\"1\" class=\"dataframe\">\n",
       "  <thead>\n",
       "    <tr style=\"text-align: right;\">\n",
       "      <th></th>\n",
       "      <th>country</th>\n",
       "      <th>year</th>\n",
       "      <th>region</th>\n",
       "      <th>population</th>\n",
       "      <th>life_expectancy</th>\n",
       "      <th>age5_surviving</th>\n",
       "      <th>babies_per_woman</th>\n",
       "      <th>gdp_per_capita</th>\n",
       "      <th>gdp_per_day</th>\n",
       "    </tr>\n",
       "  </thead>\n",
       "  <tbody>\n",
       "    <tr>\n",
       "      <th>1134</th>\n",
       "      <td>Belarus</td>\n",
       "      <td>1800</td>\n",
       "      <td>Europe</td>\n",
       "      <td>2355081.0</td>\n",
       "      <td>36.2</td>\n",
       "      <td>63.433</td>\n",
       "      <td>7.0</td>\n",
       "      <td>608.0</td>\n",
       "      <td>1.664613</td>\n",
       "    </tr>\n",
       "    <tr>\n",
       "      <th>1135</th>\n",
       "      <td>Belarus</td>\n",
       "      <td>1810</td>\n",
       "      <td>Europe</td>\n",
       "      <td>2355081.0</td>\n",
       "      <td>36.2</td>\n",
       "      <td>63.433</td>\n",
       "      <td>7.0</td>\n",
       "      <td>611.0</td>\n",
       "      <td>1.672827</td>\n",
       "    </tr>\n",
       "    <tr>\n",
       "      <th>1136</th>\n",
       "      <td>Belarus</td>\n",
       "      <td>1820</td>\n",
       "      <td>Europe</td>\n",
       "      <td>2413420.0</td>\n",
       "      <td>36.2</td>\n",
       "      <td>63.433</td>\n",
       "      <td>7.0</td>\n",
       "      <td>614.0</td>\n",
       "      <td>1.681040</td>\n",
       "    </tr>\n",
       "    <tr>\n",
       "      <th>1137</th>\n",
       "      <td>Belarus</td>\n",
       "      <td>1830</td>\n",
       "      <td>Europe</td>\n",
       "      <td>2584900.0</td>\n",
       "      <td>36.2</td>\n",
       "      <td>63.433</td>\n",
       "      <td>7.0</td>\n",
       "      <td>651.0</td>\n",
       "      <td>1.782341</td>\n",
       "    </tr>\n",
       "    <tr>\n",
       "      <th>1138</th>\n",
       "      <td>Belarus</td>\n",
       "      <td>1840</td>\n",
       "      <td>Europe</td>\n",
       "      <td>2832789.0</td>\n",
       "      <td>36.2</td>\n",
       "      <td>63.433</td>\n",
       "      <td>7.0</td>\n",
       "      <td>690.0</td>\n",
       "      <td>1.889117</td>\n",
       "    </tr>\n",
       "  </tbody>\n",
       "</table>\n",
       "</div>"
      ],
      "text/plain": [
       "      country  year  region  population  life_expectancy  age5_surviving  \\\n",
       "1134  Belarus  1800  Europe   2355081.0             36.2          63.433   \n",
       "1135  Belarus  1810  Europe   2355081.0             36.2          63.433   \n",
       "1136  Belarus  1820  Europe   2413420.0             36.2          63.433   \n",
       "1137  Belarus  1830  Europe   2584900.0             36.2          63.433   \n",
       "1138  Belarus  1840  Europe   2832789.0             36.2          63.433   \n",
       "\n",
       "      babies_per_woman  gdp_per_capita  gdp_per_day  \n",
       "1134               7.0           608.0     1.664613  \n",
       "1135               7.0           611.0     1.672827  \n",
       "1136               7.0           614.0     1.681040  \n",
       "1137               7.0           651.0     1.782341  \n",
       "1138               7.0           690.0     1.889117  "
      ]
     },
     "execution_count": 8,
     "metadata": {},
     "output_type": "execute_result"
    }
   ],
   "source": [
    "belarus.head()"
   ]
  },
  {
   "cell_type": "code",
   "execution_count": 13,
   "id": "fleet-progressive",
   "metadata": {},
   "outputs": [
    {
     "data": {
      "text/plain": [
       "(1950.0, 2015.0, -0.7022587268993843, 49.983572895277206)"
      ]
     },
     "execution_count": 13,
     "metadata": {},
     "output_type": "execute_result"
    },
    {
     "data": {
      "image/png": "[encoded data removed]",
      "text/plain": [
       "<Figure size 432x288 with 1 Axes>"
      ]
     },
     "metadata": {
      "needs_background": "light"
     },
     "output_type": "display_data"
    }
   ],
   "source": [
    "belarus.plot.scatter('year','gdp_per_day')\n",
    "plt.axis(xmin = 1950, xmax = 2015)"
   ]
  },
  {
   "cell_type": "code",
   "execution_count": 26,
   "id": "polyphonic-payday",
   "metadata": {},
   "outputs": [
    {
     "data": {
      "text/plain": [
       "(1950.0, 2020.0, 1.2997593257208162, 128.62409351317953)"
      ]
     },
     "execution_count": 26,
     "metadata": {},
     "output_type": "execute_result"
    },
    {
     "data": {
      "image/png": "[encoded data removed]",
      "text/plain": [
       "<Figure size 432x288 with 1 Axes>"
      ]
     },
     "metadata": {
      "needs_background": "light"
     },
     "output_type": "display_data"
    }
   ],
   "source": [
    "data = df.query('(country == \"Belarus\") or (country == \"Italy\")')\n",
    "\n",
    "size = np.where(data.year % 10 == 0, 30 , 2)\n",
    "color = np.where(data.country == \"Belarus\",'blue','red')\n",
    "data.plot.scatter('year','gdp_per_day', logy = True, s=size, c= color)\n",
    "plt.axis(xmin = 1950, xmax = 2020)"
   ]
  },
  {
   "cell_type": "code",
   "execution_count": null,
   "id": "sunset-proposal",
   "metadata": {},
   "outputs": [],
   "source": []
  }
 ],
 "metadata": {
  "kernelspec": {
   "display_name": "Python 3",
   "language": "python",
   "name": "python3"
  },
  "language_info": {
   "codemirror_mode": {
    "name": "ipython",
    "version": 3
   },
   "file_extension": ".py",
   "mimetype": "text/x-python",
   "name": "python",
   "nbconvert_exporter": "python",
   "pygments_lexer": "ipython3",
   "version": "3.8.5"
  }
 },
 "nbformat": 4,
 "nbformat_minor": 5
}
